{
 "cells": [
  {
   "cell_type": "markdown",
   "id": "17f8ab16",
   "metadata": {},
   "source": [
    "# EMAIL SPAM DETECTION WITH MACHINE LEARNING"
   ]
  },
  {
   "cell_type": "markdown",
   "id": "8b1c1315",
   "metadata": {},
   "source": [
    "## importing libraries"
   ]
  },
  {
   "cell_type": "code",
   "execution_count": 1,
   "id": "16e44319",
   "metadata": {},
   "outputs": [
    {
     "name": "stderr",
     "output_type": "stream",
     "text": [
      "/home/rgukt/.local/lib/python3.8/site-packages/pandas/core/computation/expressions.py:20: UserWarning: Pandas requires version '2.7.3' or newer of 'numexpr' (version '2.7.1' currently installed).\n",
      "  from pandas.core.computation.check import NUMEXPR_INSTALLED\n"
     ]
    }
   ],
   "source": [
    "import pandas as pd\n",
    "from sklearn.feature_extraction.text import TfidfVectorizer\n",
    "from sklearn.model_selection import train_test_split\n",
    "from sklearn.naive_bayes import MultinomialNB\n",
    "from sklearn.metrics import accuracy_score, precision_score, recall_score, f1_score\n"
   ]
  },
  {
   "cell_type": "code",
   "execution_count": 21,
   "id": "630d4fe5",
   "metadata": {},
   "outputs": [
    {
     "name": "stderr",
     "output_type": "stream",
     "text": [
      "/tmp/ipykernel_4902/1633011387.py:1: DtypeWarning: Columns (63,64,65,66,67,68,69,70,71,72,73,74,75,76,77,78,79,80,81,82,83,84,85,86,87,88,89,90,91,92,93,94,95,96,97,98,99,100,101,102,103,104,105,106,107,108,109,110,111,112,113,114,115,116,117,118,119,120,121,122,123,124,125,126,127,128,129,130,131,132,133,134,135,136,137,138,139,140,141,142,143,144,145,146,147,148,149,150,151,152,153,154,155,156,157,158,159,160,161,162,163,164,165,166,167,168,169,170,171) have mixed types. Specify dtype option on import or set low_memory=False.\n",
      "  data=pd.read_csv(\"/home/rgukt/Desktop/infobyte/email.csv\")\n"
     ]
    }
   ],
   "source": [
    "data=pd.read_csv(\"/home/rgukt/Desktop/infobyte/email.csv\")"
   ]
  },
  {
   "cell_type": "code",
   "execution_count": 4,
   "id": "de2b11d0",
   "metadata": {},
   "outputs": [
    {
     "data": {
      "text/html": [
       "<div>\n",
       "<style scoped>\n",
       "    .dataframe tbody tr th:only-of-type {\n",
       "        vertical-align: middle;\n",
       "    }\n",
       "\n",
       "    .dataframe tbody tr th {\n",
       "        vertical-align: top;\n",
       "    }\n",
       "\n",
       "    .dataframe thead th {\n",
       "        text-align: right;\n",
       "    }\n",
       "</style>\n",
       "<table border=\"1\" class=\"dataframe\">\n",
       "  <thead>\n",
       "    <tr style=\"text-align: right;\">\n",
       "      <th></th>\n",
       "      <th>v1</th>\n",
       "      <th>v2</th>\n",
       "      <th>Unnamed: 2</th>\n",
       "      <th>Unnamed: 3</th>\n",
       "      <th>Unnamed: 4</th>\n",
       "      <th>Unnamed: 5</th>\n",
       "      <th>Unnamed: 6</th>\n",
       "      <th>Unnamed: 7</th>\n",
       "      <th>Unnamed: 8</th>\n",
       "      <th>Unnamed: 9</th>\n",
       "      <th>...</th>\n",
       "      <th>Unnamed: 162</th>\n",
       "      <th>Unnamed: 163</th>\n",
       "      <th>Unnamed: 164</th>\n",
       "      <th>Unnamed: 165</th>\n",
       "      <th>Unnamed: 166</th>\n",
       "      <th>Unnamed: 167</th>\n",
       "      <th>Unnamed: 168</th>\n",
       "      <th>Unnamed: 169</th>\n",
       "      <th>Unnamed: 170</th>\n",
       "      <th>Unnamed: 171</th>\n",
       "    </tr>\n",
       "  </thead>\n",
       "  <tbody>\n",
       "    <tr>\n",
       "      <th>0</th>\n",
       "      <td>ham</td>\n",
       "      <td>Go until jurong point, crazy.. Available only ...</td>\n",
       "      <td>NaN</td>\n",
       "      <td>NaN</td>\n",
       "      <td>NaN</td>\n",
       "      <td>NaN</td>\n",
       "      <td>NaN</td>\n",
       "      <td>NaN</td>\n",
       "      <td>NaN</td>\n",
       "      <td>NaN</td>\n",
       "      <td>...</td>\n",
       "      <td>NaN</td>\n",
       "      <td>NaN</td>\n",
       "      <td>NaN</td>\n",
       "      <td>NaN</td>\n",
       "      <td>NaN</td>\n",
       "      <td>NaN</td>\n",
       "      <td>NaN</td>\n",
       "      <td>NaN</td>\n",
       "      <td>NaN</td>\n",
       "      <td>NaN</td>\n",
       "    </tr>\n",
       "    <tr>\n",
       "      <th>1</th>\n",
       "      <td>ham</td>\n",
       "      <td>Ok</td>\n",
       "      <td>lar...</td>\n",
       "      <td>Joking</td>\n",
       "      <td>wif</td>\n",
       "      <td>u</td>\n",
       "      <td>oni...</td>\n",
       "      <td>NaN</td>\n",
       "      <td>NaN</td>\n",
       "      <td>NaN</td>\n",
       "      <td>...</td>\n",
       "      <td>NaN</td>\n",
       "      <td>NaN</td>\n",
       "      <td>NaN</td>\n",
       "      <td>NaN</td>\n",
       "      <td>NaN</td>\n",
       "      <td>NaN</td>\n",
       "      <td>NaN</td>\n",
       "      <td>NaN</td>\n",
       "      <td>NaN</td>\n",
       "      <td>NaN</td>\n",
       "    </tr>\n",
       "    <tr>\n",
       "      <th>2</th>\n",
       "      <td>spam</td>\n",
       "      <td>Free</td>\n",
       "      <td>entry</td>\n",
       "      <td>in</td>\n",
       "      <td>2</td>\n",
       "      <td>a</td>\n",
       "      <td>wkly</td>\n",
       "      <td>comp</td>\n",
       "      <td>to</td>\n",
       "      <td>win</td>\n",
       "      <td>...</td>\n",
       "      <td>NaN</td>\n",
       "      <td>NaN</td>\n",
       "      <td>NaN</td>\n",
       "      <td>NaN</td>\n",
       "      <td>NaN</td>\n",
       "      <td>NaN</td>\n",
       "      <td>NaN</td>\n",
       "      <td>NaN</td>\n",
       "      <td>NaN</td>\n",
       "      <td>NaN</td>\n",
       "    </tr>\n",
       "    <tr>\n",
       "      <th>3</th>\n",
       "      <td>ham</td>\n",
       "      <td>U</td>\n",
       "      <td>dun</td>\n",
       "      <td>say</td>\n",
       "      <td>so</td>\n",
       "      <td>early</td>\n",
       "      <td>hor...</td>\n",
       "      <td>U</td>\n",
       "      <td>c</td>\n",
       "      <td>already</td>\n",
       "      <td>...</td>\n",
       "      <td>NaN</td>\n",
       "      <td>NaN</td>\n",
       "      <td>NaN</td>\n",
       "      <td>NaN</td>\n",
       "      <td>NaN</td>\n",
       "      <td>NaN</td>\n",
       "      <td>NaN</td>\n",
       "      <td>NaN</td>\n",
       "      <td>NaN</td>\n",
       "      <td>NaN</td>\n",
       "    </tr>\n",
       "    <tr>\n",
       "      <th>4</th>\n",
       "      <td>ham</td>\n",
       "      <td>Nah I don't think he goes to usf, he lives aro...</td>\n",
       "      <td>NaN</td>\n",
       "      <td>NaN</td>\n",
       "      <td>NaN</td>\n",
       "      <td>NaN</td>\n",
       "      <td>NaN</td>\n",
       "      <td>NaN</td>\n",
       "      <td>NaN</td>\n",
       "      <td>NaN</td>\n",
       "      <td>...</td>\n",
       "      <td>NaN</td>\n",
       "      <td>NaN</td>\n",
       "      <td>NaN</td>\n",
       "      <td>NaN</td>\n",
       "      <td>NaN</td>\n",
       "      <td>NaN</td>\n",
       "      <td>NaN</td>\n",
       "      <td>NaN</td>\n",
       "      <td>NaN</td>\n",
       "      <td>NaN</td>\n",
       "    </tr>\n",
       "    <tr>\n",
       "      <th>...</th>\n",
       "      <td>...</td>\n",
       "      <td>...</td>\n",
       "      <td>...</td>\n",
       "      <td>...</td>\n",
       "      <td>...</td>\n",
       "      <td>...</td>\n",
       "      <td>...</td>\n",
       "      <td>...</td>\n",
       "      <td>...</td>\n",
       "      <td>...</td>\n",
       "      <td>...</td>\n",
       "      <td>...</td>\n",
       "      <td>...</td>\n",
       "      <td>...</td>\n",
       "      <td>...</td>\n",
       "      <td>...</td>\n",
       "      <td>...</td>\n",
       "      <td>...</td>\n",
       "      <td>...</td>\n",
       "      <td>...</td>\n",
       "      <td>...</td>\n",
       "    </tr>\n",
       "    <tr>\n",
       "      <th>5567</th>\n",
       "      <td>spam</td>\n",
       "      <td>This is the 2nd time we have tried 2 contact u...</td>\n",
       "      <td>NaN</td>\n",
       "      <td>NaN</td>\n",
       "      <td>NaN</td>\n",
       "      <td>NaN</td>\n",
       "      <td>NaN</td>\n",
       "      <td>NaN</td>\n",
       "      <td>NaN</td>\n",
       "      <td>NaN</td>\n",
       "      <td>...</td>\n",
       "      <td>NaN</td>\n",
       "      <td>NaN</td>\n",
       "      <td>NaN</td>\n",
       "      <td>NaN</td>\n",
       "      <td>NaN</td>\n",
       "      <td>NaN</td>\n",
       "      <td>NaN</td>\n",
       "      <td>NaN</td>\n",
       "      <td>NaN</td>\n",
       "      <td>NaN</td>\n",
       "    </tr>\n",
       "    <tr>\n",
       "      <th>5568</th>\n",
       "      <td>ham</td>\n",
       "      <td>Will</td>\n",
       "      <td>�_</td>\n",
       "      <td>b</td>\n",
       "      <td>going</td>\n",
       "      <td>to</td>\n",
       "      <td>esplanade</td>\n",
       "      <td>fr</td>\n",
       "      <td>home?</td>\n",
       "      <td>NaN</td>\n",
       "      <td>...</td>\n",
       "      <td>NaN</td>\n",
       "      <td>NaN</td>\n",
       "      <td>NaN</td>\n",
       "      <td>NaN</td>\n",
       "      <td>NaN</td>\n",
       "      <td>NaN</td>\n",
       "      <td>NaN</td>\n",
       "      <td>NaN</td>\n",
       "      <td>NaN</td>\n",
       "      <td>NaN</td>\n",
       "    </tr>\n",
       "    <tr>\n",
       "      <th>5569</th>\n",
       "      <td>ham</td>\n",
       "      <td>Pity, * was in mood for that. So...any other s...</td>\n",
       "      <td>NaN</td>\n",
       "      <td>NaN</td>\n",
       "      <td>NaN</td>\n",
       "      <td>NaN</td>\n",
       "      <td>NaN</td>\n",
       "      <td>NaN</td>\n",
       "      <td>NaN</td>\n",
       "      <td>NaN</td>\n",
       "      <td>...</td>\n",
       "      <td>NaN</td>\n",
       "      <td>NaN</td>\n",
       "      <td>NaN</td>\n",
       "      <td>NaN</td>\n",
       "      <td>NaN</td>\n",
       "      <td>NaN</td>\n",
       "      <td>NaN</td>\n",
       "      <td>NaN</td>\n",
       "      <td>NaN</td>\n",
       "      <td>NaN</td>\n",
       "    </tr>\n",
       "    <tr>\n",
       "      <th>5570</th>\n",
       "      <td>ham</td>\n",
       "      <td>The</td>\n",
       "      <td>guy</td>\n",
       "      <td>did</td>\n",
       "      <td>some</td>\n",
       "      <td>bitching</td>\n",
       "      <td>but</td>\n",
       "      <td>I</td>\n",
       "      <td>acted</td>\n",
       "      <td>like</td>\n",
       "      <td>...</td>\n",
       "      <td>NaN</td>\n",
       "      <td>NaN</td>\n",
       "      <td>NaN</td>\n",
       "      <td>NaN</td>\n",
       "      <td>NaN</td>\n",
       "      <td>NaN</td>\n",
       "      <td>NaN</td>\n",
       "      <td>NaN</td>\n",
       "      <td>NaN</td>\n",
       "      <td>NaN</td>\n",
       "    </tr>\n",
       "    <tr>\n",
       "      <th>5571</th>\n",
       "      <td>ham</td>\n",
       "      <td>Rofl.</td>\n",
       "      <td>Its</td>\n",
       "      <td>true</td>\n",
       "      <td>to</td>\n",
       "      <td>its</td>\n",
       "      <td>name</td>\n",
       "      <td>NaN</td>\n",
       "      <td>NaN</td>\n",
       "      <td>NaN</td>\n",
       "      <td>...</td>\n",
       "      <td>NaN</td>\n",
       "      <td>NaN</td>\n",
       "      <td>NaN</td>\n",
       "      <td>NaN</td>\n",
       "      <td>NaN</td>\n",
       "      <td>NaN</td>\n",
       "      <td>NaN</td>\n",
       "      <td>NaN</td>\n",
       "      <td>NaN</td>\n",
       "      <td>NaN</td>\n",
       "    </tr>\n",
       "  </tbody>\n",
       "</table>\n",
       "<p>5572 rows × 172 columns</p>\n",
       "</div>"
      ],
      "text/plain": [
       "        v1                                                 v2 Unnamed: 2  \\\n",
       "0      ham  Go until jurong point, crazy.. Available only ...        NaN   \n",
       "1      ham                                                 Ok     lar...   \n",
       "2     spam                                               Free      entry   \n",
       "3      ham                                                  U        dun   \n",
       "4      ham  Nah I don't think he goes to usf, he lives aro...        NaN   \n",
       "...    ...                                                ...        ...   \n",
       "5567  spam  This is the 2nd time we have tried 2 contact u...        NaN   \n",
       "5568   ham                                               Will         �_   \n",
       "5569   ham  Pity, * was in mood for that. So...any other s...        NaN   \n",
       "5570   ham                                                The        guy   \n",
       "5571   ham                                              Rofl.        Its   \n",
       "\n",
       "     Unnamed: 3 Unnamed: 4 Unnamed: 5 Unnamed: 6 Unnamed: 7 Unnamed: 8  \\\n",
       "0           NaN        NaN        NaN        NaN        NaN        NaN   \n",
       "1        Joking        wif          u     oni...        NaN        NaN   \n",
       "2            in          2          a       wkly       comp         to   \n",
       "3           say         so      early     hor...          U          c   \n",
       "4           NaN        NaN        NaN        NaN        NaN        NaN   \n",
       "...         ...        ...        ...        ...        ...        ...   \n",
       "5567        NaN        NaN        NaN        NaN        NaN        NaN   \n",
       "5568          b      going         to  esplanade         fr      home?   \n",
       "5569        NaN        NaN        NaN        NaN        NaN        NaN   \n",
       "5570        did       some   bitching        but          I      acted   \n",
       "5571       true         to        its       name        NaN        NaN   \n",
       "\n",
       "     Unnamed: 9  ... Unnamed: 162 Unnamed: 163 Unnamed: 164 Unnamed: 165  \\\n",
       "0           NaN  ...          NaN          NaN          NaN          NaN   \n",
       "1           NaN  ...          NaN          NaN          NaN          NaN   \n",
       "2           win  ...          NaN          NaN          NaN          NaN   \n",
       "3       already  ...          NaN          NaN          NaN          NaN   \n",
       "4           NaN  ...          NaN          NaN          NaN          NaN   \n",
       "...         ...  ...          ...          ...          ...          ...   \n",
       "5567        NaN  ...          NaN          NaN          NaN          NaN   \n",
       "5568        NaN  ...          NaN          NaN          NaN          NaN   \n",
       "5569        NaN  ...          NaN          NaN          NaN          NaN   \n",
       "5570       like  ...          NaN          NaN          NaN          NaN   \n",
       "5571        NaN  ...          NaN          NaN          NaN          NaN   \n",
       "\n",
       "     Unnamed: 166 Unnamed: 167 Unnamed: 168 Unnamed: 169 Unnamed: 170  \\\n",
       "0             NaN          NaN          NaN          NaN          NaN   \n",
       "1             NaN          NaN          NaN          NaN          NaN   \n",
       "2             NaN          NaN          NaN          NaN          NaN   \n",
       "3             NaN          NaN          NaN          NaN          NaN   \n",
       "4             NaN          NaN          NaN          NaN          NaN   \n",
       "...           ...          ...          ...          ...          ...   \n",
       "5567          NaN          NaN          NaN          NaN          NaN   \n",
       "5568          NaN          NaN          NaN          NaN          NaN   \n",
       "5569          NaN          NaN          NaN          NaN          NaN   \n",
       "5570          NaN          NaN          NaN          NaN          NaN   \n",
       "5571          NaN          NaN          NaN          NaN          NaN   \n",
       "\n",
       "     Unnamed: 171  \n",
       "0             NaN  \n",
       "1             NaN  \n",
       "2             NaN  \n",
       "3             NaN  \n",
       "4             NaN  \n",
       "...           ...  \n",
       "5567          NaN  \n",
       "5568          NaN  \n",
       "5569          NaN  \n",
       "5570          NaN  \n",
       "5571          NaN  \n",
       "\n",
       "[5572 rows x 172 columns]"
      ]
     },
     "execution_count": 4,
     "metadata": {},
     "output_type": "execute_result"
    }
   ],
   "source": [
    "data"
   ]
  },
  {
   "cell_type": "code",
   "execution_count": 22,
   "id": "4c620cfa",
   "metadata": {},
   "outputs": [
    {
     "data": {
      "text/plain": [
       "Index(['v1', 'v2', 'Unnamed: 2', 'Unnamed: 3', 'Unnamed: 4', 'Unnamed: 5',\n",
       "       'Unnamed: 6', 'Unnamed: 7', 'Unnamed: 8', 'Unnamed: 9',\n",
       "       ...\n",
       "       'Unnamed: 162', 'Unnamed: 163', 'Unnamed: 164', 'Unnamed: 165',\n",
       "       'Unnamed: 166', 'Unnamed: 167', 'Unnamed: 168', 'Unnamed: 169',\n",
       "       'Unnamed: 170', 'Unnamed: 171'],\n",
       "      dtype='object', length=172)"
      ]
     },
     "execution_count": 22,
     "metadata": {},
     "output_type": "execute_result"
    }
   ],
   "source": [
    "data.columns"
   ]
  },
  {
   "cell_type": "code",
   "execution_count": 23,
   "id": "01f64e42",
   "metadata": {},
   "outputs": [
    {
     "name": "stdout",
     "output_type": "stream",
     "text": [
      "     v1                                                 v2 Unnamed: 2  \\\n",
      "0   ham  Go until jurong point, crazy.. Available only ...        NaN   \n",
      "1   ham                                                 Ok     lar...   \n",
      "2  spam                                               Free      entry   \n",
      "3   ham                                                  U        dun   \n",
      "4   ham  Nah I don't think he goes to usf, he lives aro...        NaN   \n",
      "\n",
      "  Unnamed: 3 Unnamed: 4 Unnamed: 5 Unnamed: 6 Unnamed: 7 Unnamed: 8  \\\n",
      "0        NaN        NaN        NaN        NaN        NaN        NaN   \n",
      "1     Joking        wif          u     oni...        NaN        NaN   \n",
      "2         in          2          a       wkly       comp         to   \n",
      "3        say         so      early     hor...          U          c   \n",
      "4        NaN        NaN        NaN        NaN        NaN        NaN   \n",
      "\n",
      "  Unnamed: 9  ... Unnamed: 162 Unnamed: 163 Unnamed: 164 Unnamed: 165  \\\n",
      "0        NaN  ...          NaN          NaN          NaN          NaN   \n",
      "1        NaN  ...          NaN          NaN          NaN          NaN   \n",
      "2        win  ...          NaN          NaN          NaN          NaN   \n",
      "3    already  ...          NaN          NaN          NaN          NaN   \n",
      "4        NaN  ...          NaN          NaN          NaN          NaN   \n",
      "\n",
      "  Unnamed: 166 Unnamed: 167 Unnamed: 168 Unnamed: 169 Unnamed: 170  \\\n",
      "0          NaN          NaN          NaN          NaN          NaN   \n",
      "1          NaN          NaN          NaN          NaN          NaN   \n",
      "2          NaN          NaN          NaN          NaN          NaN   \n",
      "3          NaN          NaN          NaN          NaN          NaN   \n",
      "4          NaN          NaN          NaN          NaN          NaN   \n",
      "\n",
      "  Unnamed: 171  \n",
      "0          NaN  \n",
      "1          NaN  \n",
      "2          NaN  \n",
      "3          NaN  \n",
      "4          NaN  \n",
      "\n",
      "[5 rows x 172 columns]\n"
     ]
    }
   ],
   "source": [
    "print(data.head())"
   ]
  },
  {
   "cell_type": "code",
   "execution_count": 77,
   "id": "d66834cf",
   "metadata": {},
   "outputs": [
    {
     "data": {
      "text/html": [
       "<div>\n",
       "<style scoped>\n",
       "    .dataframe tbody tr th:only-of-type {\n",
       "        vertical-align: middle;\n",
       "    }\n",
       "\n",
       "    .dataframe tbody tr th {\n",
       "        vertical-align: top;\n",
       "    }\n",
       "\n",
       "    .dataframe thead th {\n",
       "        text-align: right;\n",
       "    }\n",
       "</style>\n",
       "<table border=\"1\" class=\"dataframe\">\n",
       "  <thead>\n",
       "    <tr style=\"text-align: right;\">\n",
       "      <th></th>\n",
       "      <th>label</th>\n",
       "      <th>text</th>\n",
       "      <th>text_length</th>\n",
       "    </tr>\n",
       "  </thead>\n",
       "  <tbody>\n",
       "    <tr>\n",
       "      <th>5567</th>\n",
       "      <td>spam</td>\n",
       "      <td>This is the 2nd time we have tried 2 contact u...</td>\n",
       "      <td>160</td>\n",
       "    </tr>\n",
       "    <tr>\n",
       "      <th>5568</th>\n",
       "      <td>ham</td>\n",
       "      <td>Will</td>\n",
       "      <td>4</td>\n",
       "    </tr>\n",
       "    <tr>\n",
       "      <th>5569</th>\n",
       "      <td>ham</td>\n",
       "      <td>Pity, * was in mood for that. So...any other s...</td>\n",
       "      <td>57</td>\n",
       "    </tr>\n",
       "    <tr>\n",
       "      <th>5570</th>\n",
       "      <td>ham</td>\n",
       "      <td>The</td>\n",
       "      <td>3</td>\n",
       "    </tr>\n",
       "    <tr>\n",
       "      <th>5571</th>\n",
       "      <td>ham</td>\n",
       "      <td>Rofl.</td>\n",
       "      <td>5</td>\n",
       "    </tr>\n",
       "  </tbody>\n",
       "</table>\n",
       "</div>"
      ],
      "text/plain": [
       "     label                                               text  text_length\n",
       "5567  spam  This is the 2nd time we have tried 2 contact u...          160\n",
       "5568   ham                                               Will            4\n",
       "5569   ham  Pity, * was in mood for that. So...any other s...           57\n",
       "5570   ham                                                The            3\n",
       "5571   ham                                              Rofl.            5"
      ]
     },
     "execution_count": 77,
     "metadata": {},
     "output_type": "execute_result"
    }
   ],
   "source": [
    "data.tail()"
   ]
  },
  {
   "cell_type": "code",
   "execution_count": 24,
   "id": "c00cbdea",
   "metadata": {},
   "outputs": [
    {
     "data": {
      "text/plain": [
       "(5572, 172)"
      ]
     },
     "execution_count": 24,
     "metadata": {},
     "output_type": "execute_result"
    }
   ],
   "source": [
    "data.shape"
   ]
  },
  {
   "cell_type": "code",
   "execution_count": 25,
   "id": "a4cc0f91",
   "metadata": {},
   "outputs": [
    {
     "name": "stdout",
     "output_type": "stream",
     "text": [
      "(5161, 172)\n"
     ]
    }
   ],
   "source": [
    "data.drop_duplicates(inplace=True)\n",
    "print(data.shape)"
   ]
  },
  {
   "cell_type": "code",
   "execution_count": 26,
   "id": "4ad11944",
   "metadata": {},
   "outputs": [
    {
     "data": {
      "text/plain": [
       "v1                 0\n",
       "v2                 8\n",
       "Unnamed: 2      1256\n",
       "Unnamed: 3      1305\n",
       "Unnamed: 4      1379\n",
       "                ... \n",
       "Unnamed: 167    5160\n",
       "Unnamed: 168    5160\n",
       "Unnamed: 169    5160\n",
       "Unnamed: 170    5160\n",
       "Unnamed: 171    5160\n",
       "Length: 172, dtype: int64"
      ]
     },
     "execution_count": 26,
     "metadata": {},
     "output_type": "execute_result"
    }
   ],
   "source": [
    "data.isnull().sum()"
   ]
  },
  {
   "cell_type": "code",
   "execution_count": 27,
   "id": "9a4776e4",
   "metadata": {},
   "outputs": [
    {
     "name": "stdout",
     "output_type": "stream",
     "text": [
      "Shape after dropping duplicates: (5161, 172)\n"
     ]
    }
   ],
   "source": [
    "data.drop_duplicates(inplace=True)\n",
    "print(\"Shape after dropping duplicates:\", data.shape)"
   ]
  },
  {
   "cell_type": "code",
   "execution_count": 28,
   "id": "73a491bd",
   "metadata": {},
   "outputs": [
    {
     "name": "stdout",
     "output_type": "stream",
     "text": [
      "Number of missing values in each column:\n",
      "v1                 0\n",
      "v2                 8\n",
      "Unnamed: 2      1256\n",
      "Unnamed: 3      1305\n",
      "Unnamed: 4      1379\n",
      "                ... \n",
      "Unnamed: 167    5160\n",
      "Unnamed: 168    5160\n",
      "Unnamed: 169    5160\n",
      "Unnamed: 170    5160\n",
      "Unnamed: 171    5160\n",
      "Length: 172, dtype: int64\n"
     ]
    }
   ],
   "source": [
    "# Check for missing values\n",
    "print(\"Number of missing values in each column:\")\n",
    "print(data.isnull().sum())\n"
   ]
  },
  {
   "cell_type": "code",
   "execution_count": 29,
   "id": "b1b31150",
   "metadata": {},
   "outputs": [
    {
     "name": "stdout",
     "output_type": "stream",
     "text": [
      "v1\n",
      "v2\n",
      "Unnamed: 2\n",
      "Unnamed: 3\n",
      "Unnamed: 4\n",
      "Unnamed: 5\n",
      "Unnamed: 6\n",
      "Unnamed: 7\n",
      "Unnamed: 8\n",
      "Unnamed: 9\n",
      "Unnamed: 10\n",
      "Unnamed: 11\n",
      "Unnamed: 12\n",
      "Unnamed: 13\n",
      "Unnamed: 14\n",
      "Unnamed: 15\n",
      "Unnamed: 16\n",
      "Unnamed: 17\n",
      "Unnamed: 18\n",
      "Unnamed: 19\n",
      "Unnamed: 20\n",
      "Unnamed: 21\n",
      "Unnamed: 22\n",
      "Unnamed: 23\n",
      "Unnamed: 24\n",
      "Unnamed: 25\n",
      "Unnamed: 26\n",
      "Unnamed: 27\n",
      "Unnamed: 28\n",
      "Unnamed: 29\n",
      "Unnamed: 30\n",
      "Unnamed: 31\n",
      "Unnamed: 32\n",
      "Unnamed: 33\n",
      "Unnamed: 34\n",
      "Unnamed: 35\n",
      "Unnamed: 36\n",
      "Unnamed: 37\n",
      "Unnamed: 38\n",
      "Unnamed: 39\n",
      "Unnamed: 40\n",
      "Unnamed: 41\n",
      "Unnamed: 42\n",
      "Unnamed: 43\n",
      "Unnamed: 44\n",
      "Unnamed: 45\n",
      "Unnamed: 46\n",
      "Unnamed: 47\n",
      "Unnamed: 48\n",
      "Unnamed: 49\n",
      "Unnamed: 50\n",
      "Unnamed: 51\n",
      "Unnamed: 52\n",
      "Unnamed: 53\n",
      "Unnamed: 54\n",
      "Unnamed: 55\n",
      "Unnamed: 56\n",
      "Unnamed: 57\n",
      "Unnamed: 58\n",
      "Unnamed: 59\n",
      "Unnamed: 60\n",
      "Unnamed: 61\n",
      "Unnamed: 62\n",
      "Unnamed: 63\n",
      "Unnamed: 64\n",
      "Unnamed: 65\n",
      "Unnamed: 66\n",
      "Unnamed: 67\n",
      "Unnamed: 68\n",
      "Unnamed: 69\n",
      "Unnamed: 70\n",
      "Unnamed: 71\n",
      "Unnamed: 72\n",
      "Unnamed: 73\n",
      "Unnamed: 74\n",
      "Unnamed: 75\n",
      "Unnamed: 76\n",
      "Unnamed: 77\n",
      "Unnamed: 78\n",
      "Unnamed: 79\n",
      "Unnamed: 80\n",
      "Unnamed: 81\n",
      "Unnamed: 82\n",
      "Unnamed: 83\n",
      "Unnamed: 84\n",
      "Unnamed: 85\n",
      "Unnamed: 86\n",
      "Unnamed: 87\n",
      "Unnamed: 88\n",
      "Unnamed: 89\n",
      "Unnamed: 90\n",
      "Unnamed: 91\n",
      "Unnamed: 92\n",
      "Unnamed: 93\n",
      "Unnamed: 94\n",
      "Unnamed: 95\n",
      "Unnamed: 96\n",
      "Unnamed: 97\n",
      "Unnamed: 98\n",
      "Unnamed: 99\n",
      "Unnamed: 100\n",
      "Unnamed: 101\n",
      "Unnamed: 102\n",
      "Unnamed: 103\n",
      "Unnamed: 104\n",
      "Unnamed: 105\n",
      "Unnamed: 106\n",
      "Unnamed: 107\n",
      "Unnamed: 108\n",
      "Unnamed: 109\n",
      "Unnamed: 110\n",
      "Unnamed: 111\n",
      "Unnamed: 112\n",
      "Unnamed: 113\n",
      "Unnamed: 114\n",
      "Unnamed: 115\n",
      "Unnamed: 116\n",
      "Unnamed: 117\n",
      "Unnamed: 118\n",
      "Unnamed: 119\n",
      "Unnamed: 120\n",
      "Unnamed: 121\n",
      "Unnamed: 122\n",
      "Unnamed: 123\n",
      "Unnamed: 124\n",
      "Unnamed: 125\n",
      "Unnamed: 126\n",
      "Unnamed: 127\n",
      "Unnamed: 128\n",
      "Unnamed: 129\n",
      "Unnamed: 130\n",
      "Unnamed: 131\n",
      "Unnamed: 132\n",
      "Unnamed: 133\n",
      "Unnamed: 134\n",
      "Unnamed: 135\n",
      "Unnamed: 136\n",
      "Unnamed: 137\n",
      "Unnamed: 138\n",
      "Unnamed: 139\n",
      "Unnamed: 140\n",
      "Unnamed: 141\n",
      "Unnamed: 142\n",
      "Unnamed: 143\n",
      "Unnamed: 144\n",
      "Unnamed: 145\n",
      "Unnamed: 146\n",
      "Unnamed: 147\n",
      "Unnamed: 148\n",
      "Unnamed: 149\n",
      "Unnamed: 150\n",
      "Unnamed: 151\n",
      "Unnamed: 152\n",
      "Unnamed: 153\n",
      "Unnamed: 154\n",
      "Unnamed: 155\n",
      "Unnamed: 156\n",
      "Unnamed: 157\n",
      "Unnamed: 158\n",
      "Unnamed: 159\n",
      "Unnamed: 160\n",
      "Unnamed: 161\n",
      "Unnamed: 162\n",
      "Unnamed: 163\n",
      "Unnamed: 164\n",
      "Unnamed: 165\n",
      "Unnamed: 166\n",
      "Unnamed: 167\n",
      "Unnamed: 168\n",
      "Unnamed: 169\n",
      "Unnamed: 170\n",
      "Unnamed: 171\n"
     ]
    }
   ],
   "source": [
    "for column in data.columns:\n",
    "    print(column)"
   ]
  },
  {
   "cell_type": "code",
   "execution_count": 30,
   "id": "825a43d2",
   "metadata": {},
   "outputs": [],
   "source": [
    "label_column = 'v1'  # Replace with the actual column name for labels\n",
    "text_column = 'v2'"
   ]
  },
  {
   "cell_type": "code",
   "execution_count": 31,
   "id": "160c6fd7",
   "metadata": {},
   "outputs": [],
   "source": [
    "data = data[[label_column, text_column]]"
   ]
  },
  {
   "cell_type": "code",
   "execution_count": 33,
   "id": "71e516d6",
   "metadata": {},
   "outputs": [],
   "source": [
    "data.columns = ['label', 'text']"
   ]
  },
  {
   "cell_type": "code",
   "execution_count": 35,
   "id": "d6bf9fb5",
   "metadata": {},
   "outputs": [],
   "source": [
    "# Drop any rows with missing values in these columns\n",
    "data.dropna(subset=['label', 'text'], inplace=True)\n",
    "\n"
   ]
  },
  {
   "cell_type": "code",
   "execution_count": 36,
   "id": "e556401b",
   "metadata": {},
   "outputs": [
    {
     "name": "stdout",
     "output_type": "stream",
     "text": [
      "First few rows of the cleaned dataset:\n",
      "  label                                               text\n",
      "0   ham  Go until jurong point, crazy.. Available only ...\n",
      "1   ham                                                 Ok\n",
      "2  spam                                               Free\n",
      "3   ham                                                  U\n",
      "4   ham  Nah I don't think he goes to usf, he lives aro...\n"
     ]
    }
   ],
   "source": [
    "# Display the first few rows of the cleaned dataset to confirm the changes\n",
    "print(\"First few rows of the cleaned dataset:\")\n",
    "print(data.head())"
   ]
  },
  {
   "cell_type": "code",
   "execution_count": 37,
   "id": "2bd7b121",
   "metadata": {},
   "outputs": [
    {
     "name": "stdout",
     "output_type": "stream",
     "text": [
      "Shape of the cleaned dataset: (5153, 2)\n"
     ]
    }
   ],
   "source": [
    "print(\"Shape of the cleaned dataset:\", data.shape)"
   ]
  },
  {
   "cell_type": "code",
   "execution_count": 38,
   "id": "fd469f41",
   "metadata": {},
   "outputs": [
    {
     "name": "stdout",
     "output_type": "stream",
     "text": [
      "Number of missing values in each column after cleaning:\n",
      "label    0\n",
      "text     0\n",
      "dtype: int64\n"
     ]
    }
   ],
   "source": [
    "print(\"Number of missing values in each column after cleaning:\")\n",
    "print(data.isnull().sum())"
   ]
  },
  {
   "cell_type": "code",
   "execution_count": 39,
   "id": "e2f5c274",
   "metadata": {},
   "outputs": [],
   "source": [
    "data.to_csv('cleaned_spam_dataset.csv', index=False)"
   ]
  },
  {
   "cell_type": "code",
   "execution_count": 40,
   "id": "9263f014",
   "metadata": {},
   "outputs": [
    {
     "data": {
      "text/html": [
       "<div>\n",
       "<style scoped>\n",
       "    .dataframe tbody tr th:only-of-type {\n",
       "        vertical-align: middle;\n",
       "    }\n",
       "\n",
       "    .dataframe tbody tr th {\n",
       "        vertical-align: top;\n",
       "    }\n",
       "\n",
       "    .dataframe thead th {\n",
       "        text-align: right;\n",
       "    }\n",
       "</style>\n",
       "<table border=\"1\" class=\"dataframe\">\n",
       "  <thead>\n",
       "    <tr style=\"text-align: right;\">\n",
       "      <th></th>\n",
       "      <th>label</th>\n",
       "      <th>text</th>\n",
       "    </tr>\n",
       "  </thead>\n",
       "  <tbody>\n",
       "    <tr>\n",
       "      <th>0</th>\n",
       "      <td>ham</td>\n",
       "      <td>Go until jurong point, crazy.. Available only ...</td>\n",
       "    </tr>\n",
       "    <tr>\n",
       "      <th>1</th>\n",
       "      <td>ham</td>\n",
       "      <td>Ok</td>\n",
       "    </tr>\n",
       "    <tr>\n",
       "      <th>2</th>\n",
       "      <td>spam</td>\n",
       "      <td>Free</td>\n",
       "    </tr>\n",
       "    <tr>\n",
       "      <th>3</th>\n",
       "      <td>ham</td>\n",
       "      <td>U</td>\n",
       "    </tr>\n",
       "    <tr>\n",
       "      <th>4</th>\n",
       "      <td>ham</td>\n",
       "      <td>Nah I don't think he goes to usf, he lives aro...</td>\n",
       "    </tr>\n",
       "  </tbody>\n",
       "</table>\n",
       "</div>"
      ],
      "text/plain": [
       "  label                                               text\n",
       "0   ham  Go until jurong point, crazy.. Available only ...\n",
       "1   ham                                                 Ok\n",
       "2  spam                                               Free\n",
       "3   ham                                                  U\n",
       "4   ham  Nah I don't think he goes to usf, he lives aro..."
      ]
     },
     "execution_count": 40,
     "metadata": {},
     "output_type": "execute_result"
    }
   ],
   "source": [
    "\n",
    "data.head()"
   ]
  },
  {
   "cell_type": "markdown",
   "id": "e39de62e",
   "metadata": {},
   "source": [
    "## visualization "
   ]
  },
  {
   "cell_type": "code",
   "execution_count": 74,
   "id": "2319caec",
   "metadata": {},
   "outputs": [
    {
     "data": {
      "image/png": "[encoded data removed]",
      "text/plain": [
       "<Figure size 800x600 with 2 Axes>"
      ]
     },
     "metadata": {},
     "output_type": "display_data"
    }
   ],
   "source": [
    "from sklearn.metrics import confusion_matrix\n",
    "import seaborn as sns\n",
    "\n",
    "cm = confusion_matrix(y_test, y_pred)\n",
    "plt.figure(figsize=(8, 6))\n",
    "sns.heatmap(cm, annot=True, fmt='d', cmap='Blues')\n",
    "plt.title('Confusion Matrix')\n",
    "plt.xlabel('Predicted Labels')\n",
    "plt.ylabel('True Labels')\n",
    "plt.show()\n"
   ]
  },
  {
   "cell_type": "code",
   "execution_count": 78,
   "id": "4aa507e0",
   "metadata": {},
   "outputs": [
    {
     "data": {
      "image/png": "[encoded data removed]",
      "text/plain": [
       "<Figure size 800x600 with 1 Axes>"
      ]
     },
     "metadata": {},
     "output_type": "display_data"
    }
   ],
   "source": [
    "import matplotlib.pyplot as plt\n",
    "\n",
    "# Define the performance metrics and corresponding scores\n",
    "metrics = ['Accuracy', 'Precision', 'Recall', 'F1 Score']\n",
    "scores = [accuracy, precision, recall, f1]\n",
    "\n",
    "# Create a histogram\n",
    "plt.figure(figsize=(8, 6))\n",
    "plt.hist(scores, bins=10, color='skyblue', edgecolor='black')\n",
    "plt.xlabel('Score')\n",
    "plt.ylabel('Frequency')\n",
    "plt.title('Histogram of Performance Metrics')\n",
    "plt.xticks(fontsize=10)\n",
    "plt.yticks(fontsize=10)\n",
    "plt.grid(axis='y', linestyle='--', alpha=0.7)\n",
    "plt.show()\n"
   ]
  },
  {
   "cell_type": "code",
   "execution_count": 71,
   "id": "6cfe4e49",
   "metadata": {},
   "outputs": [
    {
     "data": {
      "image/png": "[encoded data removed]",
      "text/plain": [
       "<Figure size 1000x600 with 1 Axes>"
      ]
     },
     "metadata": {},
     "output_type": "display_data"
    }
   ],
   "source": [
    "# Create a scatter plot\n",
    "plt.figure(figsize=(10, 6))\n",
    "plt.scatter(data[data['label'] == 'spam']['text_length'], data[data['label'] == 'spam']['text_length'], color='red', label='Spam')\n",
    "plt.scatter(data[data['label'] == 'ham']['text_length'], data[data['label'] == 'ham']['text_length'], color='blue', label='Non-Spam')\n",
    "plt.title('Scatter Plot of Email Text Length by Class')\n",
    "plt.xlabel('Text Length')\n",
    "plt.ylabel('Text Length')\n",
    "plt.legend()\n",
    "plt.show()\n"
   ]
  },
  {
   "cell_type": "code",
   "execution_count": null,
   "id": "2a58a5a6",
   "metadata": {},
   "outputs": [],
   "source": []
  },
  {
   "cell_type": "code",
   "execution_count": 60,
   "id": "1b5986c5",
   "metadata": {},
   "outputs": [
    {
     "data": {
      "image/png": "[encoded data removed]",
      "text/plain": [
       "<Figure size 800x600 with 1 Axes>"
      ]
     },
     "metadata": {},
     "output_type": "display_data"
    }
   ],
   "source": [
    "plt.figure(figsize=(8, 6))\n",
    "plt.hist(y_pred, bins=50, color='blue', alpha=0.7)\n",
    "plt.xlabel('Predicted Probability')\n",
    "plt.ylabel('Frequency')\n",
    "plt.title('Histogram of Predicted Probabilities')\n",
    "plt.show()"
   ]
  },
  {
   "cell_type": "code",
   "execution_count": 67,
   "id": "d66758b7",
   "metadata": {},
   "outputs": [
    {
     "data": {
      "image/png": "[encoded data removed]",
      "text/plain": [
       "<Figure size 800x600 with 1 Axes>"
      ]
     },
     "metadata": {},
     "output_type": "display_data"
    }
   ],
   "source": [
    "from sklearn.model_selection import learning_curve\n",
    "import numpy as np\n",
    "\n",
    "train_sizes, train_scores, test_scores = learning_curve(model, X, y, cv=5)\n",
    "\n",
    "plt.figure(figsize=(8, 6))\n",
    "plt.plot(train_sizes, np.mean(train_scores, axis=1), label='Training Score', color='blue')\n",
    "plt.plot(train_sizes, np.mean(test_scores, axis=1), label='Validation Score', color='orange')\n",
    "plt.xlabel('Training Set Size')\n",
    "plt.ylabel('Score')\n",
    "plt.title('Learning Curve')\n",
    "plt.legend()\n",
    "plt.show()\n"
   ]
  },
  {
   "cell_type": "code",
   "execution_count": 68,
   "id": "850320a7",
   "metadata": {},
   "outputs": [
    {
     "data": {
      "image/png": "[encoded data removed]",
      "text/plain": [
       "<Figure size 800x600 with 1 Axes>"
      ]
     },
     "metadata": {},
     "output_type": "display_data"
    }
   ],
   "source": [
    "# Calculate the class distribution\n",
    "class_counts = data['label'].value_counts()\n",
    "\n",
    "# Create a pie chart\n",
    "plt.figure(figsize=(8, 6))\n",
    "plt.pie(class_counts, labels=class_counts.index, autopct='%1.1f%%', colors=['lightblue', 'lightgreen'])\n",
    "plt.title('Class Distribution')\n",
    "plt.show()\n"
   ]
  },
  {
   "cell_type": "code",
   "execution_count": 69,
   "id": "6ab96825",
   "metadata": {},
   "outputs": [
    {
     "data": {
      "image/png": "[encoded data removed]",
      "text/plain": [
       "<Figure size 1000x600 with 1 Axes>"
      ]
     },
     "metadata": {},
     "output_type": "display_data"
    }
   ],
   "source": [
    "import seaborn as sns\n",
    "\n",
    "# Assuming 'text' column contains the length of emails\n",
    "data['text_length'] = data['text'].apply(len)\n",
    "\n",
    "# Create a violin plot\n",
    "plt.figure(figsize=(10, 6))\n",
    "sns.violinplot(x='label', y='text_length', data=data, palette='muted')\n",
    "plt.title('Distribution of Email Text Length by Class')\n",
    "plt.xlabel('Class')\n",
    "plt.ylabel('Text Length')\n",
    "plt.show()\n"
   ]
  },
  {
   "cell_type": "code",
   "execution_count": 76,
   "id": "fbe9c9d3",
   "metadata": {},
   "outputs": [
    {
     "data": {
      "image/png": "[encoded data removed]",
      "text/plain": [
       "<Figure size 800x600 with 1 Axes>"
      ]
     },
     "metadata": {},
     "output_type": "display_data"
    }
   ],
   "source": [
    "import matplotlib.pyplot as plt\n",
    "\n",
    "# Define the performance metrics and corresponding scores\n",
    "metrics = ['Accuracy', 'Precision', 'Recall', 'F1 Score']\n",
    "scores = [accuracy, precision, recall, f1]\n",
    "\n",
    "# Create a bar graph\n",
    "plt.figure(figsize=(8, 6))\n",
    "plt.bar(metrics, scores, color=['blue', 'green', 'orange', 'red'])\n",
    "plt.title('Performance Metrics')\n",
    "plt.xlabel('Metrics')\n",
    "plt.ylabel('Score')\n",
    "plt.ylim(0, 1)  # Set the y-axis limit from 0 to 1\n",
    "plt.grid(axis='y', linestyle='--', alpha=0.7)\n",
    "plt.show()\n"
   ]
  },
  {
   "cell_type": "markdown",
   "id": "f6fe0add",
   "metadata": {},
   "source": [
    "### Vectorize the text data\n"
   ]
  },
  {
   "cell_type": "code",
   "execution_count": 41,
   "id": "561f5c41",
   "metadata": {},
   "outputs": [],
   "source": [
    "vectorizer = TfidfVectorizer(stop_words='english')\n",
    "X = vectorizer.fit_transform(data['text'])\n",
    "y = data['label']\n"
   ]
  },
  {
   "cell_type": "markdown",
   "id": "c008c590",
   "metadata": {},
   "source": [
    "### Split the data into training and testing sets"
   ]
  },
  {
   "cell_type": "code",
   "execution_count": 42,
   "id": "f3feb372",
   "metadata": {},
   "outputs": [],
   "source": [
    "X_train, X_test, y_train, y_test = train_test_split(X, y, test_size=0.2, random_state=42)"
   ]
  },
  {
   "cell_type": "markdown",
   "id": "866372bd",
   "metadata": {},
   "source": [
    "### Train a Naive Bayes classifier"
   ]
  },
  {
   "cell_type": "code",
   "execution_count": 43,
   "id": "a8214f27",
   "metadata": {},
   "outputs": [
    {
     "data": {
      "text/html": [
       "<style>#sk-container-id-1 {color: black;}#sk-container-id-1 pre{padding: 0;}#sk-container-id-1 div.sk-toggleable {background-color: white;}#sk-container-id-1 label.sk-toggleable__label {cursor: pointer;display: block;width: 100%;margin-bottom: 0;padding: 0.3em;box-sizing: border-box;text-align: center;}#sk-container-id-1 label.sk-toggleable__label-arrow:before {content: \"▸\";float: left;margin-right: 0.25em;color: #696969;}#sk-container-id-1 label.sk-toggleable__label-arrow:hover:before {color: black;}#sk-container-id-1 div.sk-estimator:hover label.sk-toggleable__label-arrow:before {color: black;}#sk-container-id-1 div.sk-toggleable__content {max-height: 0;max-width: 0;overflow: hidden;text-align: left;background-color: #f0f8ff;}#sk-container-id-1 div.sk-toggleable__content pre {margin: 0.2em;color: black;border-radius: 0.25em;background-color: #f0f8ff;}#sk-container-id-1 input.sk-toggleable__control:checked~div.sk-toggleable__content {max-height: 200px;max-width: 100%;overflow: auto;}#sk-container-id-1 input.sk-toggleable__control:checked~label.sk-toggleable__label-arrow:before {content: \"▾\";}#sk-container-id-1 div.sk-estimator input.sk-toggleable__control:checked~label.sk-toggleable__label {background-color: #d4ebff;}#sk-container-id-1 div.sk-label input.sk-toggleable__control:checked~label.sk-toggleable__label {background-color: #d4ebff;}#sk-container-id-1 input.sk-hidden--visually {border: 0;clip: rect(1px 1px 1px 1px);clip: rect(1px, 1px, 1px, 1px);height: 1px;margin: -1px;overflow: hidden;padding: 0;position: absolute;width: 1px;}#sk-container-id-1 div.sk-estimator {font-family: monospace;background-color: #f0f8ff;border: 1px dotted black;border-radius: 0.25em;box-sizing: border-box;margin-bottom: 0.5em;}#sk-container-id-1 div.sk-estimator:hover {background-color: #d4ebff;}#sk-container-id-1 div.sk-parallel-item::after {content: \"\";width: 100%;border-bottom: 1px solid gray;flex-grow: 1;}#sk-container-id-1 div.sk-label:hover label.sk-toggleable__label {background-color: #d4ebff;}#sk-container-id-1 div.sk-serial::before {content: \"\";position: absolute;border-left: 1px solid gray;box-sizing: border-box;top: 0;bottom: 0;left: 50%;z-index: 0;}#sk-container-id-1 div.sk-serial {display: flex;flex-direction: column;align-items: center;background-color: white;padding-right: 0.2em;padding-left: 0.2em;position: relative;}#sk-container-id-1 div.sk-item {position: relative;z-index: 1;}#sk-container-id-1 div.sk-parallel {display: flex;align-items: stretch;justify-content: center;background-color: white;position: relative;}#sk-container-id-1 div.sk-item::before, #sk-container-id-1 div.sk-parallel-item::before {content: \"\";position: absolute;border-left: 1px solid gray;box-sizing: border-box;top: 0;bottom: 0;left: 50%;z-index: -1;}#sk-container-id-1 div.sk-parallel-item {display: flex;flex-direction: column;z-index: 1;position: relative;background-color: white;}#sk-container-id-1 div.sk-parallel-item:first-child::after {align-self: flex-end;width: 50%;}#sk-container-id-1 div.sk-parallel-item:last-child::after {align-self: flex-start;width: 50%;}#sk-container-id-1 div.sk-parallel-item:only-child::after {width: 0;}#sk-container-id-1 div.sk-dashed-wrapped {border: 1px dashed gray;margin: 0 0.4em 0.5em 0.4em;box-sizing: border-box;padding-bottom: 0.4em;background-color: white;}#sk-container-id-1 div.sk-label label {font-family: monospace;font-weight: bold;display: inline-block;line-height: 1.2em;}#sk-container-id-1 div.sk-label-container {text-align: center;}#sk-container-id-1 div.sk-container {/* jupyter's `normalize.less` sets `[hidden] { display: none; }` but bootstrap.min.css set `[hidden] { display: none !important; }` so we also need the `!important` here to be able to override the default hidden behavior on the sphinx rendered scikit-learn.org. See: https://github.com/scikit-learn/scikit-learn/issues/21755 */display: inline-block !important;position: relative;}#sk-container-id-1 div.sk-text-repr-fallback {display: none;}</style><div id=\"sk-container-id-1\" class=\"sk-top-container\"><div class=\"sk-text-repr-fallback\"><pre>MultinomialNB()</pre><b>In a Jupyter environment, please rerun this cell to show the HTML representation or trust the notebook. <br />On GitHub, the HTML representation is unable to render, please try loading this page with nbviewer.org.</b></div><div class=\"sk-container\" hidden><div class=\"sk-item\"><div class=\"sk-estimator sk-toggleable\"><input class=\"sk-toggleable__control sk-hidden--visually\" id=\"sk-estimator-id-1\" type=\"checkbox\" checked><label for=\"sk-estimator-id-1\" class=\"sk-toggleable__label sk-toggleable__label-arrow\">MultinomialNB</label><div class=\"sk-toggleable__content\"><pre>MultinomialNB()</pre></div></div></div></div></div>"
      ],
      "text/plain": [
       "MultinomialNB()"
      ]
     },
     "execution_count": 43,
     "metadata": {},
     "output_type": "execute_result"
    }
   ],
   "source": [
    "model = MultinomialNB()\n",
    "model.fit(X_train, y_train)\n"
   ]
  },
  {
   "cell_type": "code",
   "execution_count": 44,
   "id": "d3621a06",
   "metadata": {},
   "outputs": [],
   "source": [
    "y_pred = model.predict(X_test)"
   ]
  },
  {
   "cell_type": "markdown",
   "id": "d68c7ecf",
   "metadata": {},
   "source": [
    "### Evaluate the model"
   ]
  },
  {
   "cell_type": "code",
   "execution_count": 45,
   "id": "f3880333",
   "metadata": {},
   "outputs": [],
   "source": [
    "accuracy = accuracy_score(y_test, y_pred)\n",
    "precision = precision_score(y_test, y_pred, pos_label='spam')\n",
    "recall = recall_score(y_test, y_pred, pos_label='spam')\n",
    "f1 = f1_score(y_test, y_pred, pos_label='spam')\n"
   ]
  },
  {
   "cell_type": "code",
   "execution_count": 72,
   "id": "4c37d37b",
   "metadata": {},
   "outputs": [
    {
     "name": "stdout",
     "output_type": "stream",
     "text": [
      "Accuracy: 0.9137\n",
      "Precision: 1.0000\n",
      "Recall: 0.3551\n",
      "F1 Score: 0.5241\n"
     ]
    }
   ],
   "source": [
    "print(f\"Accuracy: {accuracy:.4f}\")\n",
    "print(f\"Precision: {precision:.4f}\")\n",
    "print(f\"Recall: {recall:.4f}\")\n",
    "print(f\"F1 Score: {f1:.4f}\")"
   ]
  },
  {
   "cell_type": "code",
   "execution_count": 48,
   "id": "104b6d5f",
   "metadata": {},
   "outputs": [
    {
     "name": "stdout",
     "output_type": "stream",
     "text": [
      "Accuracy: 0.9137\n"
     ]
    }
   ],
   "source": [
    "print(f\"Accuracy: {accuracy:.4f}\")"
   ]
  }
 ],
 "metadata": {
  "kernelspec": {
   "display_name": "Python 3 (ipykernel)",
   "language": "python",
   "name": "python3"
  },
  "language_info": {
   "codemirror_mode": {
    "name": "ipython",
    "version": 3
   },
   "file_extension": ".py",
   "mimetype": "text/x-python",
   "name": "python",
   "nbconvert_exporter": "python",
   "pygments_lexer": "ipython3",
   "version": "3.8.10"
  }
 },
 "nbformat": 4,
 "nbformat_minor": 5
}
